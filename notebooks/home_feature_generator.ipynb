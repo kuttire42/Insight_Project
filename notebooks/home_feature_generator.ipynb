{
 "cells": [
  {
   "cell_type": "markdown",
   "metadata": {},
   "source": [
    "# Generate style labels and features for houses"
   ]
  },
  {
   "cell_type": "code",
   "execution_count": null,
   "metadata": {},
   "outputs": [],
   "source": [
    "import sys  \n",
    "sys.path.insert(0, '../visual_home_finder')\n",
    "\n",
    "import config, paths\n",
    "import os\n",
    "import numpy as np\n",
    "import pandas as pd\n",
    "from matplotlib import pyplot as plt\n",
    "\n",
    "from tensorflow.keras.preprocessing import image\n",
    "from tensorflow.keras.models import Model, load_model\n",
    "from tensorflow.keras.applications import ResNet50"
   ]
  },
  {
   "cell_type": "code",
   "execution_count": null,
   "metadata": {},
   "outputs": [],
   "source": [
    "# Find all the csvs in the folder\n",
    "#list_of_csvs = paths.list_files(config.LISTINGS_PATH, validExts='.csv')\n",
    "list_of_csvs = [os.path.sep.join([config.LISTINGS_PATH,'Zip_98105.csv']), \n",
    "                os.path.sep.join([config.LISTINGS_PATH,'Zip_98115.csv']),\n",
    "                os.path.sep.join([config.LISTINGS_PATH,'Zip_98117.csv'])]\n",
    "# list_of_csvs = [os.path.sep.join([config.LISTINGS_PATH,'Zip_98105.csv'])]\n",
    "img_mean = config.IMG_MEAN"
   ]
  },
  {
   "cell_type": "code",
   "execution_count": null,
   "metadata": {},
   "outputs": [],
   "source": [
    "# Loading our home-style feature model\n",
    "home_model = load_model(os.path.sep.join([config.MODEL_PATH, config.MODEL_NAME]))\n",
    "\n",
    "# Get home-style features from the model\n",
    "home_feature_model = Model(inputs = home_model.input, \n",
    "                           outputs = home_model.get_layer('dense_4').output)\n",
    "\n",
    "# Also get Resnet features (for comparison)\n",
    "resnet_model = ResNet50()\n",
    "resnet_feature_model = Model(inputs=resnet_model.input,\n",
    "                            outputs = resnet_model.get_layer('avg_pool').output)"
   ]
  },
  {
   "cell_type": "code",
   "execution_count": null,
   "metadata": {},
   "outputs": [],
   "source": [
    "resnet_model.summary()"
   ]
  },
  {
   "cell_type": "code",
   "execution_count": null,
   "metadata": {
    "scrolled": true
   },
   "outputs": [],
   "source": [
    "# Got thru each of the listings and get appropriate images\n",
    "home_listings_df = pd.DataFrame()\n",
    "\n",
    "count = 0\n",
    "for listings_file in list_of_csvs:\n",
    "    \n",
    "    print('Processing file %s...'%(listings_file))\n",
    "    \n",
    "    listings_df = pd.read_csv(listings_file)\n",
    "    index_column = listings_df['ZIP OR POSTAL CODE'].astype(str)+'_'+ (listings_df.index + 1).astype(str)\n",
    "    listings_df = listings_df.set_index(index_column)\n",
    "    \n",
    "    listings_df['predicted_style'] = \"\"\n",
    "    listings_df['home_feature'] = \"\"\n",
    "    listings_df['resnet_feature'] = \"\"\n",
    "    listings_df.home_feature = listings_df.home_feature.astype('object')\n",
    "    listings_df.resnet_feature = listings_df.resnet_feature.astype('object')\n",
    "    \n",
    "    for ii in index_column:\n",
    "    \n",
    "        image_name = os.path.sep.join([config.LISTINGS_PATH, ii+'.jpg'])        \n",
    "        try:\n",
    "            img = image.load_img(image_name, target_size = (224,224))\n",
    "        except:\n",
    "            # Remove the particular listing for which image cannot be found\n",
    "            listings_df = listings_df[listings_df.index != ii]\n",
    "            print('File %s not found'%image_name)\n",
    "            continue\n",
    "        \n",
    "        orig_img = image.img_to_array(img)\n",
    "        img = np.expand_dims(orig_img - img_mean, axis = 0)\n",
    "        home_style_raw = home_model.predict(img)\n",
    "        \n",
    "        house_style = config.CLASSES[np.argmax(np.ravel(home_style_raw))]\n",
    "        listings_df.at[ii, 'predicted_style'] = house_style\n",
    "        listings_df.at[ii, 'home_feature'] = \\\n",
    "                        np.ravel(home_feature_model.predict(img)).tolist()\n",
    "        listings_df.at[ii, 'resnet_feature'] = \\\n",
    "                        np.ravel(resnet_feature_model.predict(img)).tolist()\n",
    "        \n",
    "        # Display some classifications\n",
    "        count += 1\n",
    "        if count<50:\n",
    "            print(image_name)\n",
    "            plt.imshow(orig_img/255)\n",
    "            plt.title(house_style)\n",
    "            plt.show()\n",
    "    home_listings_df = home_listings_df.append(listings_df)\n",
    "print('Processing complete!')"
   ]
  },
  {
   "cell_type": "code",
   "execution_count": null,
   "metadata": {},
   "outputs": [],
   "source": [
    "home_listings_df.to_csv(os.path.sep.join([config.FEATURE_PATH, 'home_features4.csv']))"
   ]
  }
 ],
 "metadata": {
  "kernelspec": {
   "display_name": "Python 3",
   "language": "python",
   "name": "python3"
  },
  "language_info": {
   "codemirror_mode": {
    "name": "ipython",
    "version": 3
   },
   "file_extension": ".py",
   "mimetype": "text/x-python",
   "name": "python",
   "nbconvert_exporter": "python",
   "pygments_lexer": "ipython3",
   "version": "3.6.5"
  }
 },
 "nbformat": 4,
 "nbformat_minor": 2
}
