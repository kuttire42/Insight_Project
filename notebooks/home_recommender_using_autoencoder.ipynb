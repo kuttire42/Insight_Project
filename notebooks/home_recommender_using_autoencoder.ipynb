{
 "cells": [
  {
   "cell_type": "markdown",
   "metadata": {},
   "source": [
    "# Script to find similar homes using Autoencoder embedding"
   ]
  },
  {
   "cell_type": "code",
   "execution_count": null,
   "metadata": {},
   "outputs": [],
   "source": [
    "import sys  \n",
    "sys.path.insert(0, '../visual_home_finder')\n",
    "\n",
    "import imp\n",
    "import config, paths, utilities\n",
    "\n",
    "imp.reload(config)\n",
    "imp.reload(utilities)\n",
    "\n",
    "import os\n",
    "import pandas as pd\n",
    "import numpy as np\n",
    "from matplotlib import pyplot as plt\n",
    "from sklearn.metrics.pairwise import cosine_similarity\n",
    "from random import randint\n",
    "import pickle\n",
    "from sklearn.manifold import TSNE\n",
    "from sklearn.decomposition import PCA\n",
    "from scipy.stats import pearsonr, spearmanr\n",
    "import random\n",
    "\n",
    "from tensorflow.keras.preprocessing import image\n",
    "from tensorflow.keras.models import Model, load_model\n",
    "plt.rcParams['figure.figsize'] = (5,5)"
   ]
  },
  {
   "cell_type": "code",
   "execution_count": null,
   "metadata": {},
   "outputs": [],
   "source": [
    "favorite_image = 'modern.jpg'#'98105_27.jpg' #'98117_83.jpg'#'98117_81.jpg' \n",
    "similarity_threshold = 0.9\n",
    "use_favorite_image = True"
   ]
  },
  {
   "cell_type": "markdown",
   "metadata": {},
   "source": [
    "Read in embeddings for all home listings"
   ]
  },
  {
   "cell_type": "code",
   "execution_count": null,
   "metadata": {},
   "outputs": [],
   "source": [
    "# First read-in the feature vectors for all similar homes\n",
    "feature_file = os.path.sep.join([config.FEATURE_PATH,'home_features_autoencoder.csv'])\n",
    "home_listings_df = pd.read_csv(feature_file,\n",
    "                              index_col = 0)\n",
    "home_listings_df['home_feature'] = home_listings_df.home_feature.apply(utilities.str_to_array)"
   ]
  },
  {
   "cell_type": "markdown",
   "metadata": {},
   "source": [
    "Generate embeddings for the favorite image"
   ]
  },
  {
   "cell_type": "code",
   "execution_count": null,
   "metadata": {},
   "outputs": [],
   "source": [
    "if use_favorite_image:\n",
    "    model_name= \"autoencoder_2.h5\"\n",
    "    my_model = load_model(os.path.sep.join([config.MODEL_PATH, model_name]))\n",
    "\n",
    "    # Get home-style features from the model\n",
    "    home_feature_model = Model(inputs=my_model.input,\n",
    "                               outputs=my_model.get_layer('max_pooling2d_7').output)"
   ]
  },
  {
   "cell_type": "code",
   "execution_count": null,
   "metadata": {
    "scrolled": true
   },
   "outputs": [],
   "source": [
    "my_model.summary()"
   ]
  },
  {
   "cell_type": "code",
   "execution_count": null,
   "metadata": {
    "scrolled": false
   },
   "outputs": [],
   "source": [
    "if use_favorite_image:\n",
    "    # Load image\n",
    "    fav_img = image.load_img(favorite_image, target_size = (config.IMAGE_SIZE,config.IMAGE_SIZE))\n",
    "    fav_img_orig = image.img_to_array(fav_img)\n",
    "    \n",
    "    # Get  features for the image from the model\n",
    "    fav_feature = utilities.get_features_for_image_with_scaling(favorite_image, home_feature_model)\n",
    "\n",
    "    # Also plot the image\n",
    "    plt.imshow(fav_img_orig/255)\n",
    "    plt.show()"
   ]
  },
  {
   "cell_type": "code",
   "execution_count": null,
   "metadata": {},
   "outputs": [],
   "source": [
    "def show_home_images(home_index, home_listings_df_local, similarity_score=None):\n",
    "    \"\"\"\n",
    "    home_listings_df_local is the dataframe that contains home listing information\n",
    "    home_index is the index of the image to be shown\n",
    "    similarity_score is the similarity score for the homes\n",
    "    \"\"\"\n",
    "    home_img_name = os.path.sep.join([config.LISTINGS_PATH, home_index+'.jpg'])\n",
    "    home_name_only = (home_img_name.split(\"/\")[-1]).strip(\".jpg\")\n",
    "    if similarity_score:\n",
    "        print(home_name_only + \" Similarity: %.2f\"%(similarity_score))\n",
    "    else:\n",
    "        print(home_name_only)\n",
    "    img = image.load_img(home_img_name)\n",
    "    img = image.img_to_array(img)\n",
    "    plt.imshow(img/255)\n",
    "    plt.show()"
   ]
  },
  {
   "cell_type": "code",
   "execution_count": null,
   "metadata": {},
   "outputs": [],
   "source": [
    "def vpearsonr(x_vector, y_array):\n",
    "    \"\"\"\n",
    "    x_vector is a 1xN array, y_array is a M x N matrix. Returnes a vector of length M which \n",
    "    containes the pearson correlation of x_vector wiht each row of y_array\n",
    "    \"\"\"\n",
    "    M = y_array.shape[0]\n",
    "    correlation_values = list()\n",
    "    for mm in range(M):\n",
    "        cx,_ = pearsonr(np.transpose(np.ravel(x_vector)), np.transpose(y_array[mm,:]))\n",
    "        correlation_values.append(cx)\n",
    "    return correlation_values"
   ]
  },
  {
   "cell_type": "code",
   "execution_count": null,
   "metadata": {},
   "outputs": [],
   "source": [
    "def euclidean_similarity(x_vector, y_array):\n",
    "    values = euclidean_distances(x_vector, y_array)\n",
    "    return 1.0/(1+ values)"
   ]
  },
  {
   "cell_type": "code",
   "execution_count": null,
   "metadata": {
    "scrolled": true
   },
   "outputs": [],
   "source": [
    "# Using home-style features\n",
    "if use_favorite_image:\n",
    "    selected_home_feature = np.reshape(fav_feature, [1,-1])\n",
    "else:\n",
    "    selected_ind = 76\n",
    "    selected_home_feature = np.reshape(home_listings_df[\"home_feature\"].iloc[selected_ind], [1,-1])\n",
    "\n",
    "# Find the cosine similarity of selected home with other homes\n",
    "home_similarities = np.ravel(cosine_similarity(selected_home_feature, \n",
    "                    np.vstack(home_listings_df.home_feature).astype(float)))\n",
    "\n",
    "# Only show listings with similarity above user-selected threshold\n",
    "filtered_indices = np.ravel(np.argwhere(home_similarities > similarity_threshold))\n",
    "home_similarities_filtered = home_similarities[filtered_indices]\n",
    "sorted_similarity_arg = np.ravel(np.flip(np.argsort(home_similarities_filtered)))\n",
    "filtered_indices = filtered_indices[sorted_similarity_arg]\n",
    "home_similarities_filtered = home_similarities_filtered[sorted_similarity_arg]\n",
    "\n",
    "# Plot the images of the selected home and other similar homes\n",
    "count = 0\n",
    "for iv, ii in enumerate(filtered_indices):\n",
    "    if use_favorite_image: \n",
    "        # Dont show the same image if it was in the data-set\n",
    "        if abs(home_similarities_filtered[iv] - 1.0) <= 1e-10: # Remove the same image\n",
    "            continue\n",
    "    home_index = home_listings_df.index[ii]\n",
    "    show_home_images(home_index, home_listings_df, home_similarities[ii])\n",
    "    count += 1\n",
    "num_listings_to_show = count"
   ]
  },
  {
   "cell_type": "code",
   "execution_count": null,
   "metadata": {},
   "outputs": [],
   "source": [
    "np.percentile(home_similarities, 95)"
   ]
  },
  {
   "cell_type": "code",
   "execution_count": null,
   "metadata": {},
   "outputs": [],
   "source": [
    "# Generate t-SNE plot by using all images of home styles \n",
    "# -WARNING. THIS IS TIME CONSUMING. DONT RUN OFTEN\n",
    "num_samples = 300  # Number of sample images from each class to plot\n",
    "# For each style class, read \"num_images\" and generate features\n",
    "features_df = pd.DataFrame([])\n",
    "for style in config.CLASSES:\n",
    "    img_paths = list(paths.list_images(os.path.sep.join([config.ORIG_INPUT_DIR, style])))\n",
    "    total_images = len(img_paths)\n",
    "    selection = random.sample(range(total_images), num_samples)\n",
    "    for ii in selection:\n",
    "        image_feature = utilities.get_features_for_image_with_scaling(img_paths[ii], home_feature_model)\n",
    "        features_df = features_df.append(pd.DataFrame({\"class\":style,\n",
    "                                                    \"home_feature\":[image_feature]}))"
   ]
  },
  {
   "cell_type": "code",
   "execution_count": null,
   "metadata": {
    "scrolled": true
   },
   "outputs": [],
   "source": [
    "# Plot the characteristics of the selected homes in TSNE cluster plot\n",
    "\n",
    "features_np = np.vstack(features_df['home_feature'])\n",
    "all_listings_home_np = np.vstack(home_listings_df.home_feature).astype(float)\n",
    "features_np = np.vstack([features_np, all_listings_home_np, selected_home_feature])\n",
    "\n",
    "pca = PCA(n_components=30)\n",
    "features_np_pca = pca.fit_transform(features_np)\n",
    "\n",
    "tsne = TSNE(n_components=2, verbose=1, perplexity=30, n_iter=300)\n",
    "features_2d_tsne = tsne.fit_transform(features_np_pca)"
   ]
  },
  {
   "cell_type": "code",
   "execution_count": null,
   "metadata": {},
   "outputs": [],
   "source": [
    "plt.rcParams['figure.figsize'] = (10,10)\n",
    "\n",
    "# Load up the TSNE and cluster plots\n",
    "features_copy = np.copy(features_2d_tsne)\n",
    "selected_home_2d_tsne = np.reshape(features_copy[-1,:], [1,-1])\n",
    "features_copy = features_copy[0:-1, :]\n",
    "nn = all_listings_home_np.shape[0]\n",
    "all_listings_2d_tsne = features_copy[-nn:,:]\n",
    "features_copy = features_copy[0:-nn, :]\n",
    "home_features_2d_tsne = all_listings_2d_tsne[filtered_indices,:]\n",
    "features_df['2DTSNE'] = list(features_copy)        "
   ]
  },
  {
   "cell_type": "code",
   "execution_count": null,
   "metadata": {},
   "outputs": [],
   "source": [
    "# Scatter plot for different classes\n",
    "for style in config.CLASSES:\n",
    "    plt_array = np.vstack(features_df[features_df['class']==style]['2DTSNE'])\n",
    "    plt.scatter(plt_array[:,0], plt_array[:,1], label=style, alpha = 0.5)\n",
    "plt.legend()"
   ]
  },
  {
   "cell_type": "code",
   "execution_count": null,
   "metadata": {},
   "outputs": [],
   "source": [
    "# Scatter plot for different classes\n",
    "for style in config.CLASSES:\n",
    "    plt_array = np.vstack(features_df[features_df['class']==style]['2DTSNE'])\n",
    "    plt.scatter(plt_array[:,0], plt_array[:,1], label=style, alpha = 0.5)\n",
    "plt.legend()\n",
    "plt.plot(all_listings_2d_tsne[:,0], all_listings_2d_tsne[:,1], '.k', alpha=0.8)\n",
    "plt.plot(selected_home_2d_tsne[0,0], selected_home_2d_tsne[0,1], 'rx', alpha=1, markersize=16)"
   ]
  },
  {
   "cell_type": "code",
   "execution_count": null,
   "metadata": {},
   "outputs": [],
   "source": [
    "# Scatter plot for different classes\n",
    "for style in config.CLASSES:\n",
    "    plt_array = np.vstack(features_df[features_df['class']==style]['2DTSNE'])\n",
    "    plt.scatter(plt_array[:,0], plt_array[:,1], label=style, alpha = 0.5)\n",
    "plt.legend()\n",
    "\n",
    "plt.plot(all_listings_2d_tsne[:,0], all_listings_2d_tsne[:,1], '.k', alpha=0.8)\n",
    "plt.plot(selected_home_2d_tsne[0,0], selected_home_2d_tsne[0,1], 'rx', alpha=1, markersize=16)\n",
    "# Plot the selected homes\n",
    "for iv, ii in enumerate(filtered_indices):\n",
    "    if abs(home_similarities_filtered[iv] - 1.0) <= 1e-10: \n",
    "        continue\n",
    "    else:\n",
    "         plt.plot([home_features_2d_tsne[iv,0],selected_home_2d_tsne[0,0]],\n",
    "                 [home_features_2d_tsne[iv,1],selected_home_2d_tsne[0,1]],\n",
    "                 'k:', alpha=0.8)    \n",
    "plt.xlabel('Feature Space')\n",
    "plt.ylabel('Feature Space')\n",
    "plt.grid()"
   ]
  },
  {
   "cell_type": "code",
   "execution_count": null,
   "metadata": {
    "scrolled": false
   },
   "outputs": [],
   "source": [
    "# Show randomly selected homes\n",
    "num_listings = len(home_similarities)\n",
    "count = 1\n",
    "while count<=num_listings_to_show:\n",
    "    count+=1\n",
    "    ii = randint(0,num_listings-1)\n",
    "    home_index = home_listings_df.index[ii]\n",
    "    show_home_images(home_index, home_listings_df)"
   ]
  },
  {
   "cell_type": "code",
   "execution_count": null,
   "metadata": {
    "scrolled": false
   },
   "outputs": [],
   "source": [
    "# Using Resnet Features\n",
    "if not(use_favorite_image):\n",
    "    selected_home_feature = home_listings_df[\"resnet_feature\"].iloc[selected_ind]\n",
    "\n",
    "    #Find the cosine similarity of selected home with other homes\n",
    "    home_similarities = np.ravel(cosine_similarity(np.reshape(selected_home_feature, [1,-1]), \n",
    "                        np.vstack(home_listings_df.resnet_feature)))\n",
    "    similar_homes_arg = np.ravel(np.flip(np.argsort(home_similarities)))\n",
    "\n",
    "    # Plot the images of the selected home and other similar homes\n",
    "    count = 0\n",
    "    for iv, ii in enumerate(similar_homes_arg):\n",
    "        if use_favorite_image and iv==0:\n",
    "            continue\n",
    "        home_index = home_listings_df.index[ii]\n",
    "        show_home_images(home_index, home_listings_df, home_similarities[ii])\n",
    "        count += 1\n",
    "        if count>=num_listings_to_show:\n",
    "            break"
   ]
  }
 ],
 "metadata": {
  "kernelspec": {
   "display_name": "Python 3",
   "language": "python",
   "name": "python3"
  },
  "language_info": {
   "codemirror_mode": {
    "name": "ipython",
    "version": 3
   },
   "file_extension": ".py",
   "mimetype": "text/x-python",
   "name": "python",
   "nbconvert_exporter": "python",
   "pygments_lexer": "ipython3",
   "version": "3.6.5"
  }
 },
 "nbformat": 4,
 "nbformat_minor": 2
}
