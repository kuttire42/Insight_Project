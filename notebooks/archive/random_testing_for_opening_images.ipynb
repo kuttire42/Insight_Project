{
 "cells": [
  {
   "cell_type": "markdown",
   "metadata": {},
   "source": [
    "# Just some testing on PNG images"
   ]
  },
  {
   "cell_type": "code",
   "execution_count": 11,
   "metadata": {},
   "outputs": [],
   "source": [
    "import sys  \n",
    "sys.path.insert(0, '../visual_home_finder')\n",
    "import config, paths, utilities\n",
    "from tensorflow.keras.preprocessing import image\n",
    "from PIL import Image\n",
    "import os\n",
    "import numpy as np"
   ]
  },
  {
   "cell_type": "code",
   "execution_count": 28,
   "metadata": {},
   "outputs": [
    {
     "name": "stdout",
     "output_type": "stream",
     "text": [
      "../data/raw/home_images/craftsman/Screen Shot 2020-05-30 at 11.18.40 PM.png\n"
     ]
    }
   ],
   "source": [
    "file_name = 'ffad5dba2a.jpg'\n",
    "image_file_name = os.path.sep.join([config.ORIG_INPUT_DIR, \"craftsman\", file_name])\n",
    "print(file_path)"
   ]
  },
  {
   "cell_type": "code",
   "execution_count": 29,
   "metadata": {},
   "outputs": [
    {
     "name": "stdout",
     "output_type": "stream",
     "text": [
      "(1, 224, 224, 3)\n"
     ]
    }
   ],
   "source": [
    "image_pil = Image.open(image_file_name)\n",
    "image_pil = image_pil.resize((224, 224))\n",
    "image_array = image.img_to_array(image_pil)[...,:3]\n",
    "image_array = np.expand_dims(image_array - config.IMG_MEAN, axis=0)  # Shape = (1,222,224,3)\n",
    "print(np.shape(image_array))"
   ]
  }
 ],
 "metadata": {
  "kernelspec": {
   "display_name": "Python 3",
   "language": "python",
   "name": "python3"
  },
  "language_info": {
   "codemirror_mode": {
    "name": "ipython",
    "version": 3
   },
   "file_extension": ".py",
   "mimetype": "text/x-python",
   "name": "python",
   "nbconvert_exporter": "python",
   "pygments_lexer": "ipython3",
   "version": "3.6.5"
  }
 },
 "nbformat": 4,
 "nbformat_minor": 2
}
