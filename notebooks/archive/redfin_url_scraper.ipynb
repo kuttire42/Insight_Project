{
 "cells": [
  {
   "cell_type": "markdown",
   "metadata": {},
   "source": [
    "# Script to scrape redfin pages\n",
    "This did not work. Redfin blocks page scrapers"
   ]
  },
  {
   "cell_type": "code",
   "execution_count": null,
   "metadata": {},
   "outputs": [],
   "source": [
    "import requests\n",
    "from bs4 import BeautifulSoup"
   ]
  },
  {
   "cell_type": "code",
   "execution_count": null,
   "metadata": {},
   "outputs": [],
   "source": [
    "house_url = 'http://www.redfin.com/WA/Seattle/7011-4th-Ave-NW-98117/home/498011'\n",
    "\n",
    "# Pretend to be a web browser and make a get request of a webpage\n",
    "redfin_request = requests.get(house_url)\n",
    "\n",
    "# The .text returns the text from the request\n",
    "redfin_html = redfin_request.text\n"
   ]
  },
  {
   "cell_type": "code",
   "execution_count": null,
   "metadata": {},
   "outputs": [],
   "source": [
    "# Turn into soup, specify the HTML parser\n",
    "redfin_page = BeautifulSoup(redfin_html, 'html.parser')"
   ]
  },
  {
   "cell_type": "code",
   "execution_count": null,
   "metadata": {
    "scrolled": false
   },
   "outputs": [],
   "source": [
    "print(redfin_html)"
   ]
  },
  {
   "cell_type": "code",
   "execution_count": null,
   "metadata": {},
   "outputs": [],
   "source": [
    "def find_redfin_twitter_price_tag(tag):\n",
    "    return tag.name == 'meta' and tag.has_attr('name') and tag.has_attr('content') "
   ]
  },
  {
   "cell_type": "code",
   "execution_count": null,
   "metadata": {},
   "outputs": [],
   "source": [
    "redfin_page.find_all(find_redfin_twitter_price_tag)"
   ]
  }
 ],
 "metadata": {
  "kernelspec": {
   "display_name": "Python 3",
   "language": "python",
   "name": "python3"
  },
  "language_info": {
   "codemirror_mode": {
    "name": "ipython",
    "version": 3
   },
   "file_extension": ".py",
   "mimetype": "text/x-python",
   "name": "python",
   "nbconvert_exporter": "python",
   "pygments_lexer": "ipython3",
   "version": "3.6.5"
  }
 },
 "nbformat": 4,
 "nbformat_minor": 2
}
