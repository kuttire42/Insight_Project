{
 "cells": [
  {
   "cell_type": "markdown",
   "metadata": {},
   "source": [
    "# Generate features for houses using an Autoencoder model"
   ]
  },
  {
   "cell_type": "code",
   "execution_count": null,
   "metadata": {},
   "outputs": [],
   "source": [
    "import sys  \n",
    "sys.path.insert(0, '../visual_home_finder')\n",
    "\n",
    "import imp\n",
    "import config, paths, utilities\n",
    "\n",
    "imp.reload(config)\n",
    "imp.reload(utilities)\n",
    "\n",
    "import os\n",
    "import numpy as np\n",
    "import pandas as pd\n",
    "from tensorflow.keras.models import Model, load_model\n",
    "from tensorflow.keras.preprocessing import image\n",
    "from matplotlib import pyplot as plt\n",
    "\n",
    "from tensorflow.keras.preprocessing import image"
   ]
  },
  {
   "cell_type": "code",
   "execution_count": null,
   "metadata": {},
   "outputs": [],
   "source": [
    "# Find all the csvs in the folder\n",
    "#list_of_csvs = paths.list_files(config.LISTINGS_PATH, validExts='.csv')\n",
    "list_of_csvs = [os.path.sep.join([config.LISTINGS_PATH,'Zip_98105.csv']), \n",
    "                os.path.sep.join([config.LISTINGS_PATH,'Zip_98115.csv']),\n",
    "                os.path.sep.join([config.LISTINGS_PATH,'Zip_98117.csv']),\n",
    "                os.path.sep.join([config.LISTINGS_PATH,'Zip_98107.csv']),\n",
    "                os.path.sep.join([config.LISTINGS_PATH,'Zip_98103.csv'])]"
   ]
  },
  {
   "cell_type": "code",
   "execution_count": null,
   "metadata": {},
   "outputs": [],
   "source": [
    "# Load the autoencoder model\n",
    "model_name= \"autoencoder_2.h5\"\n",
    "my_model = load_model(os.path.sep.join([config.MODEL_PATH, model_name]))\n",
    "\n",
    "# Get home-style features from the model\n",
    "home_feature_model = Model(inputs=my_model.input,\n",
    "                           outputs=my_model.get_layer('max_pooling2d_7').output)"
   ]
  },
  {
   "cell_type": "code",
   "execution_count": null,
   "metadata": {
    "scrolled": true
   },
   "outputs": [],
   "source": [
    "my_model.summary()"
   ]
  },
  {
   "cell_type": "code",
   "execution_count": null,
   "metadata": {
    "scrolled": false
   },
   "outputs": [],
   "source": [
    "# Got thru each of the listings and get appropriate images\n",
    "home_listings_df = pd.DataFrame()\n",
    "\n",
    "count = 0\n",
    "for listings_file in list_of_csvs:\n",
    "    \n",
    "    print('Processing file %s...'%(listings_file))\n",
    "    \n",
    "    listings_df = pd.read_csv(listings_file)\n",
    "    index_column = listings_df['ZIP OR POSTAL CODE'].astype(str)+'_'+ (listings_df.index + 1).astype(str)\n",
    "    listings_df = listings_df.set_index(index_column)\n",
    "    \n",
    "    listings_df['home_feature'] = \"\"\n",
    "    listings_df.home_feature = listings_df.home_feature.astype('object')\n",
    "    \n",
    "    for ii in index_column:\n",
    "    \n",
    "        image_name = os.path.sep.join([config.LISTINGS_PATH, ii+'.jpg'])        \n",
    "        try:\n",
    "            # Get the home style prediction\n",
    "            home_features = utilities.get_features_for_image_with_scaling(image_name, home_feature_model)\n",
    "        except:\n",
    "            # Remove the particular listing for which image cannot be found\n",
    "            listings_df = listings_df[listings_df.index != ii]\n",
    "            print('File %s not found'%image_name)\n",
    "            continue\n",
    "        listings_df.at[ii, 'home_feature'] = home_features\n",
    "    home_listings_df = home_listings_df.append(listings_df)\n",
    "print('Processing complete!')"
   ]
  },
  {
   "cell_type": "code",
   "execution_count": null,
   "metadata": {},
   "outputs": [],
   "source": [
    "home_listings_df.to_csv(os.path.sep.join([config.FEATURE_PATH, 'home_features_autoencoder.csv']))"
   ]
  }
 ],
 "metadata": {
  "kernelspec": {
   "display_name": "Python 3",
   "language": "python",
   "name": "python3"
  },
  "language_info": {
   "codemirror_mode": {
    "name": "ipython",
    "version": 3
   },
   "file_extension": ".py",
   "mimetype": "text/x-python",
   "name": "python",
   "nbconvert_exporter": "python",
   "pygments_lexer": "ipython3",
   "version": "3.6.5"
  }
 },
 "nbformat": 4,
 "nbformat_minor": 2
}
