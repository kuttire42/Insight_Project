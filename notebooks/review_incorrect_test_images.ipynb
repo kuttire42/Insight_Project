{
 "cells": [
  {
   "cell_type": "markdown",
   "metadata": {},
   "source": [
    "# Script to look at incorrectly identified test images"
   ]
  },
  {
   "cell_type": "code",
   "execution_count": null,
   "metadata": {},
   "outputs": [],
   "source": [
    "# Imports\n",
    "import sys  \n",
    "sys.path.insert(0, '../visual_home_finder')\n",
    "\n",
    "import imp\n",
    "import config, paths, utilities\n",
    "\n",
    "imp.reload(config)\n",
    "imp.reload(utilities)\n",
    "\n",
    "from tensorflow.keras.preprocessing.image import ImageDataGenerator\n",
    "from tensorflow.keras.preprocessing import image\n",
    "from sklearn.metrics import classification_report\n",
    "from matplotlib import pyplot as plt\n",
    "import numpy as np"
   ]
  },
  {
   "cell_type": "code",
   "execution_count": null,
   "metadata": {},
   "outputs": [],
   "source": [
    "# Load our home-style feature model\n",
    "home_model = utilities.home_model()\n",
    "\n",
    "# Initialize validation/test data generator object\n",
    "batch_size = len(list(paths.list_images(config.TEST_PATH)))\n",
    "test_aug = ImageDataGenerator(featurewise_center = True)\n",
    "test_aug.mean = config.IMG_MEAN\n",
    "test_gen = test_aug.flow_from_directory(\n",
    "    config.TEST_PATH,\n",
    "    class_mode=\"categorical\",\n",
    "    target_size=(224, 224),\n",
    "    color_mode=\"rgb\",\n",
    "    shuffle=False,\n",
    "    batch_size=batch_size)"
   ]
  },
  {
   "cell_type": "code",
   "execution_count": null,
   "metadata": {},
   "outputs": [],
   "source": [
    "# Reset test generator and used trained model to make predictions\n",
    "print(\"Evaluating test cases...\")\n",
    "test_gen.reset()\n",
    "pred_indices_raw = home_model.predict(test_gen)\n",
    "# For each image, find the class\n",
    "pred_indices = np.argmax(pred_indices_raw, axis=1)\n",
    "# Classification Report\n",
    "print(classification_report(test_gen.classes, pred_indices, \n",
    "                 target_names=test_gen.class_indices.keys()))"
   ]
  },
  {
   "cell_type": "code",
   "execution_count": null,
   "metadata": {},
   "outputs": [],
   "source": [
    "batchX, batchy = test_gen.next()"
   ]
  },
  {
   "cell_type": "code",
   "execution_count": null,
   "metadata": {},
   "outputs": [],
   "source": [
    "actual_class = 0\n",
    "confused_with_class = 4\n",
    "class_args = np.ravel(np.argwhere(test_gen.classes == actual_class))\n",
    "confusion_args = np.ravel(np.argwhere(pred_indices[class_args]==confused_with_class))"
   ]
  },
  {
   "cell_type": "code",
   "execution_count": null,
   "metadata": {
    "scrolled": false
   },
   "outputs": [],
   "source": [
    "for ii in np.ravel(confusion_args):\n",
    "    plt.figure()\n",
    "    plt.title(pred_indices_raw[class_args[ii],:])\n",
    "    plt.imshow((batchX[class_args[ii],:,:,:] + config.IMG_MEAN)/256)"
   ]
  }
 ],
 "metadata": {
  "kernelspec": {
   "display_name": "Python 3",
   "language": "python",
   "name": "python3"
  },
  "language_info": {
   "codemirror_mode": {
    "name": "ipython",
    "version": 3
   },
   "file_extension": ".py",
   "mimetype": "text/x-python",
   "name": "python",
   "nbconvert_exporter": "python",
   "pygments_lexer": "ipython3",
   "version": "3.6.5"
  }
 },
 "nbformat": 4,
 "nbformat_minor": 2
}
