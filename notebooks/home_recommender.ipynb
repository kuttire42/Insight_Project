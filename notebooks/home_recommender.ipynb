{
 "cells": [
  {
   "cell_type": "markdown",
   "metadata": {},
   "source": [
    "# Script to find similar homes"
   ]
  },
  {
   "cell_type": "code",
   "execution_count": null,
   "metadata": {},
   "outputs": [],
   "source": [
    "import sys  \n",
    "sys.path.insert(0, '../visual_home_finder')\n",
    "\n",
    "import config, paths, utilities\n",
    "import os\n",
    "import pandas as pd\n",
    "import numpy as np\n",
    "from matplotlib import pyplot as plt\n",
    "from sklearn.metrics.pairwise import cosine_similarity, euclidean_distances\n",
    "from random import randint\n",
    "\n",
    "from tensorflow.keras.preprocessing import image\n",
    "from tensorflow.keras.models import Model, load_model"
   ]
  },
  {
   "cell_type": "code",
   "execution_count": null,
   "metadata": {},
   "outputs": [],
   "source": [
    "favorite_image = '98117_83.jpg'#'98117_81.jpg' #98105_27\n",
    "num_listings_to_show = 5\n",
    "use_favorite_image = True"
   ]
  },
  {
   "cell_type": "markdown",
   "metadata": {},
   "source": [
    "Read in embeddings for all home listings"
   ]
  },
  {
   "cell_type": "code",
   "execution_count": null,
   "metadata": {},
   "outputs": [],
   "source": [
    "# First read-in the feature vectors for all similar homes\n",
    "home_listings_df = pd.read_csv(os.path.sep.join([config.FEATURE_PATH, 'home_features4.csv']),\n",
    "                              index_col = 0)\n",
    "home_listings_df['home_feature'] = home_listings_df.home_feature.apply(utilities.str_to_array)\n",
    "home_listings_df['resnet_feature'] = home_listings_df.resnet_feature.apply(utilities.str_to_array)"
   ]
  },
  {
   "cell_type": "markdown",
   "metadata": {},
   "source": [
    "Generate embeddings for the favorite image"
   ]
  },
  {
   "cell_type": "code",
   "execution_count": null,
   "metadata": {},
   "outputs": [],
   "source": [
    "if use_favorite_image:\n",
    "    # Load our home-style feature model\n",
    "    home_model = load_model(os.path.sep.join([config.MODEL_PATH, config.MODEL_NAME]))\n",
    "\n",
    "    # Get home-style features from the model\n",
    "    home_feature_model = Model(inputs = home_model.input, \n",
    "                               outputs = home_model.get_layer('dense_4').output)"
   ]
  },
  {
   "cell_type": "code",
   "execution_count": null,
   "metadata": {},
   "outputs": [],
   "source": [
    "if use_favorite_image:\n",
    "    # Load image\n",
    "    fav_img = image.load_img(favorite_image, target_size = (224,224))\n",
    "    fav_img_orig = image.img_to_array(fav_img)\n",
    "    fav_img = np.expand_dims(fav_img_orig - config.IMG_MEAN, axis = 0)\n",
    "\n",
    "    # Get  features for the image from the model\n",
    "    fav_feature = np.ravel(home_feature_model.predict(fav_img)).tolist()\n",
    "\n",
    "    # Also plot the image\n",
    "    plt.imshow(fav_img_orig/255)\n",
    "    plt.show()"
   ]
  },
  {
   "cell_type": "code",
   "execution_count": null,
   "metadata": {},
   "outputs": [],
   "source": [
    "def show_home_images(home_index, home_listings_df_local, similarity_score=None):\n",
    "    \"\"\"\n",
    "    home_listings_df_local is the dataframe that contains home listing information\n",
    "    home_index is the index of the image to be shown\n",
    "    similarity_score is the similarity score for the homes\n",
    "    \"\"\"\n",
    "    home_img_name = os.path.sep.join([config.LISTINGS_PATH, home_index+'.jpg'])\n",
    "    home_name_only = (home_img_name.split(\"/\")[-1]).strip(\".jpg\")\n",
    "    if similarity_score:\n",
    "        print(home_name_only + \" Similarity: %.2f\"%(similarity_score))\n",
    "    else:\n",
    "        print(home_name_only)\n",
    "    img = image.load_img(home_img_name)\n",
    "    img = image.img_to_array(img)\n",
    "    plt.imshow(img/255)\n",
    "    plt.title(home_listings_df_local['predicted_style'][ii])\n",
    "    plt.show()"
   ]
  },
  {
   "cell_type": "code",
   "execution_count": null,
   "metadata": {
    "scrolled": false
   },
   "outputs": [],
   "source": [
    "# Using home-style features\n",
    "if use_favorite_image:\n",
    "    selected_home_feature = fav_feature\n",
    "else:\n",
    "    selected_ind = 76\n",
    "    selected_home_feature = home_listings_df[\"home_feature\"].iloc[selected_ind]\n",
    "\n",
    "# Find the cosine similarity of selected home with other homes\n",
    "home_similarities = np.ravel(cosine_similarity(np.reshape(selected_home_feature, [1,-1]), \n",
    "                    np.vstack(home_listings_df.home_feature)))\n",
    "similar_homes_arg = np.ravel(np.flip(np.argsort(home_similarities)))\n",
    "\n",
    "# Plot the images of the selected home and other similar homes\n",
    "count = 0\n",
    "for iv, ii in enumerate(similar_homes_arg):\n",
    "    if use_favorite_image and iv==0:\n",
    "        continue\n",
    "    home_index = home_listings_df.index[ii]\n",
    "    show_home_images(home_index, home_listings_df, home_similarities[ii])\n",
    "    count += 1\n",
    "    if count>=num_listings_to_show:\n",
    "        break"
   ]
  },
  {
   "cell_type": "code",
   "execution_count": null,
   "metadata": {
    "scrolled": false
   },
   "outputs": [],
   "source": [
    "# Show randomly selected homes\n",
    "num_listings = len(similar_homes_arg)\n",
    "count = 1\n",
    "while count<=num_listings_to_show:\n",
    "    count+=1\n",
    "    ii = randint(0,num_listings-1)\n",
    "    home_index = home_listings_df.index[ii]\n",
    "    show_home_images(home_index, home_listings_df)"
   ]
  },
  {
   "cell_type": "code",
   "execution_count": null,
   "metadata": {
    "scrolled": false
   },
   "outputs": [],
   "source": [
    "# Using Resnet Features\n",
    "selected_home_feature = home_listings_df[\"resnet_feature\"].iloc[selected_ind]\n",
    "\n",
    "#Find the cosine similarity of selected home with other homes\n",
    "home_similarities = np.ravel(cosine_similarity(np.reshape(selected_home_feature, [1,-1]), \n",
    "                    np.vstack(home_listings_df.resnet_feature)))\n",
    "similar_homes_arg = np.ravel(np.flip(np.argsort(home_similarities)))\n",
    "\n",
    "# Plot the images of the selected home and other similar homes\n",
    "count = 0\n",
    "for iv, ii in enumerate(similar_homes_arg):\n",
    "    if use_favorite_image and iv==0:\n",
    "        continue\n",
    "    home_index = home_listings_df.index[ii]\n",
    "    show_home_images(home_index, home_listings_df, home_similarities[ii])\n",
    "    count += 1\n",
    "    if count>=num_listings_to_show:\n",
    "        break"
   ]
  }
 ],
 "metadata": {
  "kernelspec": {
   "display_name": "Python 3",
   "language": "python",
   "name": "python3"
  },
  "language_info": {
   "codemirror_mode": {
    "name": "ipython",
    "version": 3
   },
   "file_extension": ".py",
   "mimetype": "text/x-python",
   "name": "python",
   "nbconvert_exporter": "python",
   "pygments_lexer": "ipython3",
   "version": "3.6.5"
  }
 },
 "nbformat": 4,
 "nbformat_minor": 2
}
