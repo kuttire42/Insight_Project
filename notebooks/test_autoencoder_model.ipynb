{
 "cells": [
  {
   "cell_type": "markdown",
   "metadata": {},
   "source": [
    "# Test Autoencoder model"
   ]
  },
  {
   "cell_type": "code",
   "execution_count": null,
   "metadata": {},
   "outputs": [],
   "source": [
    "import sys  \n",
    "sys.path.insert(0, '../visual_home_finder')\n",
    "import config, paths\n",
    "\n",
    "import os\n",
    "\n",
    "from tensorflow.keras.models import Model, load_model\n",
    "from tensorflow.keras.preprocessing import image\n",
    "\n",
    "import numpy as np\n",
    "from matplotlib import pyplot as plt\n",
    "import os\n",
    "import random\n",
    "\n",
    "IMG_SIZE = 224"
   ]
  },
  {
   "cell_type": "code",
   "execution_count": null,
   "metadata": {},
   "outputs": [],
   "source": [
    "# Load the already-trained audotencoder model\n",
    "model_name= \"autoencoder_2.h5\"\n",
    "my_model = load_model(os.path.sep.join([config.MODEL_PATH, model_name]))"
   ]
  },
  {
   "cell_type": "code",
   "execution_count": null,
   "metadata": {},
   "outputs": [],
   "source": [
    "my_model.summary()"
   ]
  },
  {
   "cell_type": "code",
   "execution_count": null,
   "metadata": {
    "scrolled": false
   },
   "outputs": [],
   "source": [
    "# Plot test images generated using the auto-encoder\n",
    "some_test_images = list(paths.list_images(config.TEST_PATH))\n",
    "num_images_to_plot = 10\n",
    "num_test_images = len(some_test_images)\n",
    "\n",
    "indices = random.sample(range(num_test_images),num_images_to_plot)\n",
    "for ii in indices:\n",
    "    print(some_test_images[ii])\n",
    "    figure, (ax1, ax2) = plt.subplots(1,2)\n",
    "    img = image.load_img(some_test_images[ii], target_size = (224,224))\n",
    "    img = image.img_to_array(img)/256\n",
    "    model_output = my_model.predict(np.expand_dims(img, axis = 0))\n",
    "    ax1.imshow(img.astype(float))\n",
    "    ax2.imshow(model_output[0,:,:,:].astype(float))\n",
    "    print(np.max(img))\n",
    "    print(np.max(model_output[0,:,:,:]))\n",
    "    print('-------')\n",
    "    figure.tight_layout()\n",
    "plt.show()"
   ]
  }
 ],
 "metadata": {
  "kernelspec": {
   "display_name": "Python 3",
   "language": "python",
   "name": "python3"
  },
  "language_info": {
   "codemirror_mode": {
    "name": "ipython",
    "version": 3
   },
   "file_extension": ".py",
   "mimetype": "text/x-python",
   "name": "python",
   "nbconvert_exporter": "python",
   "pygments_lexer": "ipython3",
   "version": "3.6.5"
  }
 },
 "nbformat": 4,
 "nbformat_minor": 2
}
